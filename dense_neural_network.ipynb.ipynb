{
  "nbformat": 4,
  "nbformat_minor": 0,
  "metadata": {
    "colab": {
      "name": "fashion_mnist.ipynb",
      "provenance": [],
      "authorship_tag": "ABX9TyPZ6teeE5MecmLoVStsKkDv",
      "include_colab_link": true
    },
    "kernelspec": {
      "name": "python3",
      "display_name": "Python 3"
    }
  },
  "cells": [
    {
      "cell_type": "markdown",
      "metadata": {
        "id": "view-in-github",
        "colab_type": "text"
      },
      "source": [
        "<a href=\"https://colab.research.google.com/github/annashiheart/FashionMNIST/blob/main/fashion_mnist.ipynb\" target=\"_parent\"><img src=\"https://colab.research.google.com/assets/colab-badge.svg\" alt=\"Open In Colab\"/></a>"
      ]
    },
    {
      "cell_type": "code",
      "metadata": {
        "id": "6iUmGHSewaWN"
      },
      "source": [
        "%tensorflow_version 2.x\n",
        "import tensorflow as tf\n",
        "from tensorflow import keras\n",
        "import numpy as np\n",
        "import matplotlib.pyplot as plt"
      ],
      "execution_count": 1,
      "outputs": []
    },
    {
      "cell_type": "code",
      "metadata": {
        "id": "5wjLzPCI6wf4"
      },
      "source": [
        "# load the fashion mnist dataset from keras\n",
        "fashion_mnist = keras.datasets.fashion_mnist \n",
        "(train_X, train_y),(test_X,test_y) = fashion_mnist.load_data()"
      ],
      "execution_count": 2,
      "outputs": []
    },
    {
      "cell_type": "code",
      "metadata": {
        "id": "JEGMcOijl_R7"
      },
      "source": [
        "# data preprocessing, scaling values from 0-255 to 0-1\n",
        "train_X = train_X/255.0\n",
        "test_X = test_X/255.0"
      ],
      "execution_count": 3,
      "outputs": []
    },
    {
      "cell_type": "code",
      "metadata": {
        "id": "EkHrVIwOmpyZ"
      },
      "source": [
        "# build the layers of the neural network\n",
        "model = tf.keras.models.Sequential([ \n",
        "  tf.keras.layers.Flatten(input_shape=(28, 28)), \n",
        "  tf.keras.layers.Dense(128, activation='relu'),    \n",
        "  tf.keras.layers.Dense(10, activation='softmax')     \n",
        "])\n",
        "\n",
        "# set up model optimizer, loss function, and accuracy\n",
        "model.compile(optimizer='adam',\n",
        "              loss=tf.keras.losses.SparseCategoricalCrossentropy(from_logits=True),\n",
        "              metrics=['accuracy'])"
      ],
      "execution_count": 4,
      "outputs": []
    },
    {
      "cell_type": "code",
      "metadata": {
        "id": "Yt26tMJZiZZP"
      },
      "source": [
        "# train the model on training data\n",
        "model.fit(train_X, train_y, epochs=12)"
      ],
      "execution_count": null,
      "outputs": []
    },
    {
      "cell_type": "code",
      "metadata": {
        "id": "mznDqCM0p5MC"
      },
      "source": [
        "# test the model on testing data\n",
        "loss, acc = model.evaluate(test_X, test_y, verbose = 1)\n",
        "print('\\nTest accuracy: ', acc)"
      ],
      "execution_count": null,
      "outputs": []
    },
    {
      "cell_type": "code",
      "metadata": {
        "id": "YeLj9vsssWWZ"
      },
      "source": [
        "# show an object photo and label\n",
        "def show_photo(i):\n",
        "  plt.figure(figsize=(6,6))\n",
        "  plt.xticks([])\n",
        "  plt.yticks([])\n",
        "  plt.grid(False)\n",
        "  plt.imshow(test_X[i], cmap=plt.cm.binary) # makes the colour grey\n",
        "  plt.xlabel(class_names[test_y[i]])\n",
        "  plt.show()\n",
        "\n",
        "# assign each numerical label to its English equivalent\n",
        "class_names = ['T-shirt/top','Trouser','Pullover','Dress','Coat','Sandal','Shirt','Sneaker','Bag','Ankle boot']\n",
        "\n",
        "# compare the model prediction and the actual classification\n",
        "def classify(a):  \n",
        "  predictions = model.predict(test_X)\n",
        "  numero = np.argmax(predictions[a])\n",
        "  print('')\n",
        "  print('Model predicts this is a : '+ class_names[numero])\n",
        "\n",
        "  print(\"\\nHere's what it actually is: \")\n",
        "  show_photo(a)\n",
        "\n",
        "  if numero == test_y[a]:\n",
        "    print('Looks like the prediction was right. :)')\n",
        "  else:\n",
        "    print('Looks like the prediction was wrong. :(')"
      ],
      "execution_count": 7,
      "outputs": []
    },
    {
      "cell_type": "code",
      "metadata": {
        "id": "fUW5YG9zKkQX"
      },
      "source": [
        "# anyone can test out the accuracy of the model\n",
        "print('Please enter an integer between 1 and 10 000 (inclusive):')\n",
        "\n",
        "while True:\n",
        "  try:\n",
        "    x = int(input())-1\n",
        "  except ValueError:\n",
        "    print(\"That is not an integer.\")\n",
        "    continue\n",
        "  if x>=0 and x<10000:\n",
        "    classify(9)\n",
        "    break\n",
        "  else:\n",
        "    print('You did not enter an integer between 1 and 10 000. Please try again.')\n",
        "    continue\n",
        "\n"
      ],
      "execution_count": null,
      "outputs": []
    }
  ]
}
